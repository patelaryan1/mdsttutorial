{
  "cells": [
    {
      "cell_type": "markdown",
      "metadata": {
        "id": "view-in-github",
        "colab_type": "text"
      },
      "source": [
        "<a href=\"https://colab.research.google.com/github/patelaryan1/mdsttutorial/blob/main/checkpoint0.ipynb\" target=\"_parent\"><img src=\"https://colab.research.google.com/assets/colab-badge.svg\" alt=\"Open In Colab\"/></a>"
      ]
    },
    {
      "cell_type": "markdown",
      "metadata": {
        "id": "0a8IYAJUshu1"
      },
      "source": [
        "# Checkpoint 0"
      ],
      "id": "0a8IYAJUshu1"
    },
    {
      "cell_type": "markdown",
      "metadata": {
        "id": "JByJcg18q-2x"
      },
      "source": [
        "These exercises are a mix of Python and Pandas practice. Most should be no more than a few lines of code!\n",
        "\n",
        "Do not remove comments that start with: \"# @@@\" (Those are question tags)"
      ],
      "id": "JByJcg18q-2x"
    },
    {
      "cell_type": "code",
      "execution_count": 2,
      "metadata": {
        "colab": {
          "base_uri": "https://localhost:8080/"
        },
        "id": "Jo6wuTgkshu1",
        "outputId": "97c12faa-fbbd-4441-ec69-80566971311d"
      },
      "outputs": [
        {
          "output_type": "stream",
          "name": "stdout",
          "text": [
            "[1, 2, 3, 4, 5, 6]\n"
          ]
        }
      ],
      "source": [
        "# @@@ Question 1: Here is a python list, initialize another list called b with the same values as a.\n",
        "a = [1, 2, 3, 4, 5, 6]\n",
        "b = a\n",
        "print(b)"
      ],
      "id": "Jo6wuTgkshu1"
    },
    {
      "cell_type": "code",
      "execution_count": 5,
      "id": "779d96b1",
      "metadata": {
        "colab": {
          "base_uri": "https://localhost:8080/"
        },
        "id": "779d96b1",
        "outputId": "511d6a1e-8f58-4e9c-fc1c-fc0cc9a054f2"
      },
      "outputs": [
        {
          "output_type": "stream",
          "name": "stdout",
          "text": [
            "[4, 5, 6]\n"
          ]
        }
      ],
      "source": [
        "# @@@ Question 2: get a list containing the last 3 elements of b\n",
        "# Yes, you can just type out [4, 5, 6] but we really want to see you demonstrate you know how to use list slicing in Python\n",
        "list2 = b[-3:]\n",
        "print(list2)"
      ]
    },
    {
      "cell_type": "code",
      "execution_count": 6,
      "id": "b6a54def",
      "metadata": {
        "colab": {
          "base_uri": "https://localhost:8080/"
        },
        "id": "b6a54def",
        "outputId": "a81010b6-090b-493e-e814-177448402020"
      },
      "outputs": [
        {
          "output_type": "stream",
          "name": "stdout",
          "text": [
            "[1, 2, 3, 4, 5, 6, 7, 8, 9, 10, 11, 12, 13, 14, 15, 16, 17, 18, 19, 20]\n"
          ]
        }
      ],
      "source": [
        "# @@@ Question 3: Create a list of numbers from 1 to 20\n",
        "list3 = list(range(1,21))\n",
        "print(list3)"
      ]
    },
    {
      "cell_type": "code",
      "execution_count": 9,
      "id": "487873ac",
      "metadata": {
        "colab": {
          "base_uri": "https://localhost:8080/"
        },
        "id": "487873ac",
        "outputId": "3baaf95b-63e8-407d-ab85-b102eebcf5ea"
      },
      "outputs": [
        {
          "output_type": "stream",
          "name": "stdout",
          "text": [
            "[2, 4, 6, 8, 10, 12, 14, 16, 18, 20, 22, 24, 26, 28, 30, 32, 34, 36, 38, 40, 42, 44, 46, 48, 50, 52, 54, 56, 58, 60, 62, 64, 66, 68, 70, 72, 74, 76, 78, 80, 82, 84, 86, 88, 90, 92, 94, 96, 98, 100]\n"
          ]
        }
      ],
      "source": [
        "# @@@ Question 4: now get a list with only the even numbers between 1 and 100\n",
        "list3 = list(range(2,101,2))\n",
        "print(list3)"
      ]
    },
    {
      "cell_type": "code",
      "execution_count": 10,
      "id": "3d4bb5dd",
      "metadata": {
        "id": "3d4bb5dd"
      },
      "outputs": [],
      "source": [
        "# @@@ Question 5: write a function that takes two numbers as arguments\n",
        "# and returns the first number divided by the second\n",
        "def function(n1, n2):\n",
        "  return n1/n2"
      ]
    },
    {
      "cell_type": "code",
      "execution_count": 13,
      "id": "f55df04e",
      "metadata": {
        "colab": {
          "base_uri": "https://localhost:8080/"
        },
        "id": "f55df04e",
        "outputId": "6598abfd-cf6d-47b8-f7f7-4826074c4c96"
      },
      "outputs": [
        {
          "output_type": "stream",
          "name": "stdout",
          "text": [
            "1\n",
            "2\n",
            "fizz\n",
            "4\n",
            "buzz\n",
            "fizz\n",
            "7\n",
            "8\n",
            "fizz\n",
            "buzz\n",
            "11\n",
            "fizz\n",
            "13\n",
            "14\n",
            "fizzbuzz\n",
            "16\n",
            "17\n",
            "fizz\n",
            "19\n",
            "buzz\n",
            "fizz\n",
            "22\n",
            "23\n",
            "fizz\n",
            "buzz\n",
            "26\n",
            "fizz\n",
            "28\n",
            "29\n",
            "fizzbuzz\n"
          ]
        }
      ],
      "source": [
        "# @@@ Queston 6: fizzbuzz\n",
        "# you will need to use both iteration and control flow\n",
        "# go through all numbers from 1 to 30 in order\n",
        "# if the number is a multiple of 3, print fizz\n",
        "# if the number is a multiple of 5, print buzz\n",
        "# if the number is a multiple of 3 and 5, print fizzbuzz and NOTHING ELSE\n",
        "# if the number is neither a multiple of 3 nor a multiple of 5, print the number\n",
        "for i in range (1,31):\n",
        "  if(i % 3 == 0) and (i%5 ==0):\n",
        "    print(\"fizzbuzz\")\n",
        "  elif (i%3 == 0):\n",
        "    print(\"fizz\")\n",
        "  elif(i%5 ==0):\n",
        "    print(\"buzz\")\n",
        "  else:\n",
        "    print(i)\n",
        "\n"
      ]
    },
    {
      "cell_type": "code",
      "execution_count": 14,
      "id": "78aace0b",
      "metadata": {
        "id": "78aace0b"
      },
      "outputs": [],
      "source": [
        "# @@@ Question 7: create a dictionary that reflects the following menu pricing (taken from Ahmo's)\n",
        "# Gyro: $9\n",
        "# Burger: $9\n",
        "# Greek Salad: $8\n",
        "# Philly Steak: $10\n",
        "menu = {\"Gyro\": 9, \"Burger\": 9, \"Greek Salad\": 8, \"Philly Steak\": 10}"
      ]
    },
    {
      "cell_type": "code",
      "execution_count": 2,
      "metadata": {
        "colab": {
          "base_uri": "https://localhost:8080/"
        },
        "id": "WzCQ5HOJshvA",
        "outputId": "201e04e3-dd23-492c-cff8-9ed7493cb7c5"
      },
      "outputs": [
        {
          "output_type": "stream",
          "name": "stdout",
          "text": [
            "         beverage_category       beverage      beverage_prep  calories  \\\n",
            "0                   coffee  brewed coffee              Short         3   \n",
            "1                   coffee  brewed coffee               Tall         4   \n",
            "2                   coffee  brewed coffee             Grande         5   \n",
            "3                   coffee  brewed coffee              Venti         5   \n",
            "4  classic espresso drinks     caff latte  Short Nonfat Milk        70   \n",
            "\n",
            "   total fat  trans fat  saturated fat  sodium  total carbohydrates  \\\n",
            "0        0.1        0.0            0.0       0                    5   \n",
            "1        0.1        0.0            0.0       0                   10   \n",
            "2        0.1        0.0            0.0       0                   10   \n",
            "3        0.1        0.0            0.0       0                   10   \n",
            "4        0.1        0.1            0.0       5                   75   \n",
            "\n",
            "   cholesterol  dietary fibre  sugars  protein  vitamin a  vitamin c  calcium  \\\n",
            "0            0              0       0      0.3          0          0        0   \n",
            "1            0              0       0      0.5          0          0        0   \n",
            "2            0              0       0      1.0          0          0        0   \n",
            "3            0              0       0      1.0          0          0        2   \n",
            "4           10              0       9      6.0         10          0       20   \n",
            "\n",
            "   iron  caffeine  \n",
            "0   0.0     175.0  \n",
            "1   0.0     260.0  \n",
            "2   0.0     330.0  \n",
            "3   0.0     410.0  \n",
            "4   0.0      75.0  \n"
          ]
        }
      ],
      "source": [
        "# @@@ Question 8: load in the \"starbucks.csv\" dataset\n",
        "# refer to how we read the cereal.csv dataset in the tutorial\n",
        "import pandas as pd\n",
        "file = \"https://raw.githubusercontent.com/patelaryan1/mdsttutorial/refs/heads/main/data/starbucks.csv\"\n",
        "df = pd.read_csv(file)\n",
        "print(df.head())"
      ],
      "id": "WzCQ5HOJshvA"
    },
    {
      "cell_type": "markdown",
      "source": [
        "# New Section"
      ],
      "metadata": {
        "id": "uxMUlXxQ7L8o"
      },
      "id": "uxMUlXxQ7L8o"
    },
    {
      "cell_type": "code",
      "execution_count": 3,
      "id": "ac0f0c12",
      "metadata": {
        "id": "ac0f0c12"
      },
      "outputs": [],
      "source": [
        "# @@@ Question 9: select all rows with more than and including 400 calories\n",
        "allrows1 = df[df[\"calories\"] >= 400]"
      ]
    },
    {
      "cell_type": "code",
      "execution_count": 4,
      "id": "ee8f8241",
      "metadata": {
        "id": "ee8f8241"
      },
      "outputs": [],
      "source": [
        "# @@@ Question 10: select all rows whose vitamin c content is higher than the iron content\n",
        "allrows2 = df[df[\"vitamin c\"] > df[\"iron\"]]\n"
      ]
    },
    {
      "cell_type": "code",
      "execution_count": 5,
      "id": "d4de48bb",
      "metadata": {
        "id": "d4de48bb"
      },
      "outputs": [],
      "source": [
        "# @@@ Question 11: create a new column containing the caffeine per calories of each drink\n",
        "df[\"caffeine_per_calorie\"] = df[\"caffeine\"] / df[\"calories\"]"
      ]
    },
    {
      "cell_type": "code",
      "execution_count": 6,
      "metadata": {
        "id": "rIoxaSxHshvB"
      },
      "outputs": [],
      "source": [
        "# @@@ Question 12: what is the average calorie across all items?\n",
        "avgcals = df[\"calories\"].mean()"
      ],
      "id": "rIoxaSxHshvB"
    },
    {
      "cell_type": "code",
      "execution_count": 7,
      "metadata": {
        "id": "ABX7i49FshvD"
      },
      "outputs": [],
      "source": [
        "# @@@ Question 13: how many different categories of beverages are there?\n",
        "bevcategories = df[\"beverage_category\"].nunique()\n"
      ],
      "id": "ABX7i49FshvD"
    },
    {
      "cell_type": "code",
      "execution_count": 8,
      "metadata": {
        "id": "P9QatZAzshvE"
      },
      "outputs": [],
      "source": [
        "# @@@ Question 14: what is the average # calories for each beverage category?\n",
        "avgcals2 = df.groupby(\"beverage_category\")[\"calories\"].mean()\n"
      ],
      "id": "P9QatZAzshvE"
    }
  ],
  "metadata": {
    "kernelspec": {
      "display_name": "Python 3.9.0 64-bit",
      "language": "python",
      "name": "python3"
    },
    "language_info": {
      "codemirror_mode": {
        "name": "ipython",
        "version": 3
      },
      "file_extension": ".py",
      "mimetype": "text/x-python",
      "name": "python",
      "nbconvert_exporter": "python",
      "pygments_lexer": "ipython3",
      "version": "3.9.0"
    },
    "vscode": {
      "interpreter": {
        "hash": "6cf8df3ff69f85f626faf55c10df6fe2cb9d1236b4dc73844ee4dc01369c2c99"
      }
    },
    "colab": {
      "provenance": [],
      "toc_visible": true,
      "include_colab_link": true
    }
  },
  "nbformat": 4,
  "nbformat_minor": 5
}